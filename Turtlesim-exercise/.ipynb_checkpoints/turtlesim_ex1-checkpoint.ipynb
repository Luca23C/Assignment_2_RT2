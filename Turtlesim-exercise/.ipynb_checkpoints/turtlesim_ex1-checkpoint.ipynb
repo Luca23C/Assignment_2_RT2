{
 "cells": [
  {
   "cell_type": "code",
   "execution_count": 1,
   "id": "83bcc65b-bd9d-4217-be81-081c0db1537c",
   "metadata": {
    "execution": {
     "iopub.execute_input": "2024-04-06T15:14:58.523256Z",
     "iopub.status.busy": "2024-04-06T15:14:58.522608Z",
     "iopub.status.idle": "2024-04-06T15:14:59.089788Z",
     "shell.execute_reply": "2024-04-06T15:14:59.088995Z",
     "shell.execute_reply.started": "2024-04-06T15:14:58.523196Z"
    }
   },
   "outputs": [],
   "source": [
    "import rospy\n",
    "from turtlesim.msg import Pose\n",
    "from geometry_msgs.msg import Twist\n",
    "import time\n",
    "import numpy as np\n",
    "import matplotlib as mpl\n",
    "import matplotlib.pyplot as plt\n",
    "\n",
    "x_plot = []\n",
    "y_plot = []\n",
    "pub = rospy.Publisher(\"turtle1/cmd_vel\", Twist, queue_size=1)"
   ]
  },
  {
   "cell_type": "code",
   "execution_count": 2,
   "id": "9df5ee71-7f54-4f0a-9db1-5e8e91031210",
   "metadata": {
    "execution": {
     "iopub.execute_input": "2024-04-06T15:14:59.091067Z",
     "iopub.status.busy": "2024-04-06T15:14:59.090677Z",
     "iopub.status.idle": "2024-04-06T15:14:59.096315Z",
     "shell.execute_reply": "2024-04-06T15:14:59.095358Z",
     "shell.execute_reply.started": "2024-04-06T15:14:59.091044Z"
    }
   },
   "outputs": [],
   "source": [
    "def turtleCallback(msg):\n",
    "    global x_plot, y_plot\n",
    "    x_plot.append(msg.x)\n",
    "    y_plot.append(msg.y)\n",
    "\n",
    "    vel = Twist()\n",
    "    if (msg.x > 9.0):\n",
    "        vel.linear.x = 1.0\n",
    "        vel.angular.z = 1.0\n",
    "    elif (msg.x < 1.5):\n",
    "        vel.linear.x = 1.0\n",
    "        vel.angular.z = -1.0\n",
    "    else:\n",
    "        vel.linear.x = 1.0\n",
    "        vel.angular.z = 0.0\n",
    "\n",
    "    pub.publish(vel)"
   ]
  },
  {
   "cell_type": "code",
   "execution_count": 3,
   "id": "0c0ccc35-8c9a-4ee8-b801-7df6601db933",
   "metadata": {
    "execution": {
     "iopub.execute_input": "2024-04-06T15:14:59.098327Z",
     "iopub.status.busy": "2024-04-06T15:14:59.098043Z",
     "iopub.status.idle": "2024-04-06T15:15:09.309967Z",
     "shell.execute_reply": "2024-04-06T15:15:09.307213Z",
     "shell.execute_reply.started": "2024-04-06T15:14:59.098303Z"
    }
   },
   "outputs": [],
   "source": [
    "%matplotlib inline\n",
    "rospy.init_node(\"controller\")\n",
    "sub = rospy.Subscriber(\"turtle1/pose\", Pose, turtleCallback)\n",
    "time.sleep(10)\n",
    "sub.unregister()\n",
    "vel = Twist()\n",
    "vel.linear.x = 0.0\n",
    "vel.angular.z = 0.0\n",
    "pub.publish(vel)"
   ]
  },
  {
   "cell_type": "code",
   "execution_count": 4,
   "id": "8af0bbcd-c069-4513-8a1d-1b324ca0a877",
   "metadata": {
    "execution": {
     "iopub.execute_input": "2024-04-06T15:15:09.313965Z",
     "iopub.status.busy": "2024-04-06T15:15:09.313037Z",
     "iopub.status.idle": "2024-04-06T15:15:09.571571Z",
     "shell.execute_reply": "2024-04-06T15:15:09.570653Z",
     "shell.execute_reply.started": "2024-04-06T15:15:09.313825Z"
    }
   },
   "outputs": [
    {
     "data": {
      "text/plain": [
       "Text(0.5, 0, 'y')"
      ]
     },
     "execution_count": 4,
     "metadata": {},
     "output_type": "execute_result"
    },
    {
     "data": {
      "image/png": "[encoded data removed]",
      "text/plain": [
       "<Figure size 640x480 with 1 Axes>"
      ]
     },
     "metadata": {},
     "output_type": "display_data"
    }
   ],
   "source": [
    "np_x_plot = np.array(x_plot)\n",
    "np_y_plot = np.array(y_plot)\n",
    "fig = plt.figure()\n",
    "ax = fig.add_axes([0,0,1,1])\n",
    "ax.set_xlim(0, 12)\n",
    "ax.set_ylim(0, 12)\n",
    "ax.plot(np_x_plot, np_y_plot)\n",
    "ax.set_title(\"my_turtle\")\n",
    "ax.set_xlabel(\"x\")\n",
    "ax.set_xlabel(\"y\")"
   ]
  },
  {
   "cell_type": "code",
   "execution_count": 5,
   "id": "0a12de1b-4c03-4349-87de-b7de57e0c01e",
   "metadata": {
    "execution": {
     "iopub.execute_input": "2024-04-06T15:17:46.615466Z",
     "iopub.status.busy": "2024-04-06T15:17:46.614044Z",
     "iopub.status.idle": "2024-04-06T15:17:46.686441Z",
     "shell.execute_reply": "2024-04-06T15:17:46.685492Z",
     "shell.execute_reply.started": "2024-04-06T15:17:46.615330Z"
    }
   },
   "outputs": [
    {
     "data": {
      "application/vnd.jupyter.widget-view+json": {
       "model_id": "e40ff4599b7040a893463e74f2f74177",
       "version_major": 2,
       "version_minor": 0
      },
      "text/plain": [
       "IntSlider(value=0)"
      ]
     },
     "metadata": {},
     "output_type": "display_data"
    }
   ],
   "source": [
    "import ipywidgets as widgets\n",
    "\n",
    "%ipywidgets inline\n",
    "w = widgets.IntSlider()\n",
    "display(w)"
   ]
  },
  {
   "cell_type": "code",
   "execution_count": null,
   "id": "102829cb-80d7-49f2-8226-fd6c999f4e8d",
   "metadata": {},
   "outputs": [],
   "source": []
  }
 ],
 "metadata": {
  "kernelspec": {
   "display_name": "Python 3 (ipykernel)",
   "language": "python",
   "name": "python3"
  },
  "language_info": {
   "codemirror_mode": {
    "name": "ipython",
    "version": 3
   },
   "file_extension": ".py",
   "mimetype": "text/x-python",
   "name": "python",
   "nbconvert_exporter": "python",
   "pygments_lexer": "ipython3",
   "version": "3.8.10"
  }
 },
 "nbformat": 4,
 "nbformat_minor": 5
}
