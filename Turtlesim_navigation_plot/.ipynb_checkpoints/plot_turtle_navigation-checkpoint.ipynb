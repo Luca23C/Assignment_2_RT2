{
 "cells": [
  {
   "cell_type": "code",
   "execution_count": null,
   "id": "797b4535",
   "metadata": {},
   "outputs": [],
   "source": [
    "import matplotlib.pyplot as plt\n",
    "import rospy\n",
    "import tf\n",
    "from turtlesim.msg import Pose\n",
    "from tf.transformations import quaternion_matrix\n",
    "import numpy as np\n",
    "from matplotlib.animation import FuncAnimation\n",
    "\n",
    "class Visualiser:\n",
    "    \n",
    "    def __init__(self):\n",
    "        self.fig, self.ax = plt.subplots()\n",
    "        self.ln, = plt.plot([], [], 'ro')\n",
    "        self.x_data, self.y_data = [] , []\n",
    "        \n",
    "    def plot_init(self):\n",
    "        self.ax.set_xlim(0, 10)\n",
    "        self.ax.set_ylim(0, 10)\n",
    "        return self.ln,\n",
    "        \n",
    "    def odom_callback(self, msg):\n",
    "        self.y_data.append(msg.y)\n",
    "        self.x_data.append(msg.x)\n",
    "\n",
    "    def update_plot(self, frame):\n",
    "        self.ln.set_data(self.x_data, self.y_data)\n",
    "        return self.ln,\n",
    "\n",
    "    \n",
    "rospy.init_node('plot_odom')\n",
    "vis = Visualiser()\n",
    "sub = rospy.Subscriber('/turtle1/pose', Pose, vis.odom_callback)\n",
    "ani = FuncAnimation(vis.fig, vis.update_plot, init_func=vis.plot_init)\n",
    "plt.show(block=True)"
   ]
  }
 ],
 "metadata": {
  "kernelspec": {
   "display_name": "Python 3 (ipykernel)",
   "language": "python",
   "name": "python3"
  },
  "language_info": {
   "codemirror_mode": {
    "name": "ipython",
    "version": 3
   },
   "file_extension": ".py",
   "mimetype": "text/x-python",
   "name": "python",
   "nbconvert_exporter": "python",
   "pygments_lexer": "ipython3",
   "version": "3.8.10"
  }
 },
 "nbformat": 4,
 "nbformat_minor": 5
}
